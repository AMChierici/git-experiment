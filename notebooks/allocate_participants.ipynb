{
 "cells": [
  {
   "cell_type": "code",
   "execution_count": 5,
   "id": "b5942bae-7c7d-4061-9024-81cfddd5d36a",
   "metadata": {},
   "outputs": [],
   "source": [
    "import pandas as pd\n",
    "import random"
   ]
  },
  {
   "cell_type": "code",
   "execution_count": 2,
   "id": "8494da73-51ef-465f-b467-d7ac0a3cc17f",
   "metadata": {},
   "outputs": [],
   "source": [
    "df_interactors = pd.read_csv(\"interactors_selected.csv\")\n",
    "df_variants = pd.read_csv(\"variants_streams.csv\")\n",
    "df_known = pd.read_csv(\"known_avatars.csv\")"
   ]
  },
  {
   "cell_type": "code",
   "execution_count": 3,
   "id": "002bd20a-4bb6-44d8-88f1-3e253c5dc37c",
   "metadata": {},
   "outputs": [
    {
     "data": {
      "text/html": [
       "<div>\n",
       "<style scoped>\n",
       "    .dataframe tbody tr th:only-of-type {\n",
       "        vertical-align: middle;\n",
       "    }\n",
       "\n",
       "    .dataframe tbody tr th {\n",
       "        vertical-align: top;\n",
       "    }\n",
       "\n",
       "    .dataframe thead th {\n",
       "        text-align: right;\n",
       "    }\n",
       "</style>\n",
       "<table border=\"1\" class=\"dataframe\">\n",
       "  <thead>\n",
       "    <tr style=\"text-align: right;\">\n",
       "      <th></th>\n",
       "      <th>Interactor</th>\n",
       "      <th>Untitled Question</th>\n",
       "    </tr>\n",
       "  </thead>\n",
       "  <tbody>\n",
       "    <tr>\n",
       "      <th>0</th>\n",
       "      <td>abz2011@nyu.edu</td>\n",
       "      <td>Dikshya Neupane, Taman Temirgaliyeva</td>\n",
       "    </tr>\n",
       "    <tr>\n",
       "      <th>1</th>\n",
       "      <td>moa2020@nyu.edu</td>\n",
       "      <td>Chinonyerem Ukaegbu, Morenikeji Adedayo</td>\n",
       "    </tr>\n",
       "    <tr>\n",
       "      <th>2</th>\n",
       "      <td>maj596@nyu.edu</td>\n",
       "      <td>Ronit Singh</td>\n",
       "    </tr>\n",
       "    <tr>\n",
       "      <th>3</th>\n",
       "      <td>ab9840@nyu.edu</td>\n",
       "      <td>Kundyz Muktar, Kripa Shrestha, Dixit Timilsina...</td>\n",
       "    </tr>\n",
       "    <tr>\n",
       "      <th>4</th>\n",
       "      <td>az1788@nyu.edu</td>\n",
       "      <td>Kundyz Muktar, Makhambet Aitpay, Taman Temirga...</td>\n",
       "    </tr>\n",
       "  </tbody>\n",
       "</table>\n",
       "</div>"
      ],
      "text/plain": [
       "        Interactor                                  Untitled Question\n",
       "0  abz2011@nyu.edu               Dikshya Neupane, Taman Temirgaliyeva\n",
       "1  moa2020@nyu.edu            Chinonyerem Ukaegbu, Morenikeji Adedayo\n",
       "2   maj596@nyu.edu                                        Ronit Singh\n",
       "3   ab9840@nyu.edu  Kundyz Muktar, Kripa Shrestha, Dixit Timilsina...\n",
       "4   az1788@nyu.edu  Kundyz Muktar, Makhambet Aitpay, Taman Temirga..."
      ]
     },
     "execution_count": 3,
     "metadata": {},
     "output_type": "execute_result"
    }
   ],
   "source": [
    "df_known.head()"
   ]
  },
  {
   "cell_type": "code",
   "execution_count": 4,
   "id": "ec06d81f-140b-4d8b-8b90-4095fc31011b",
   "metadata": {},
   "outputs": [
    {
     "data": {
      "text/html": [
       "<div>\n",
       "<style scoped>\n",
       "    .dataframe tbody tr th:only-of-type {\n",
       "        vertical-align: middle;\n",
       "    }\n",
       "\n",
       "    .dataframe tbody tr th {\n",
       "        vertical-align: top;\n",
       "    }\n",
       "\n",
       "    .dataframe thead th {\n",
       "        text-align: right;\n",
       "    }\n",
       "</style>\n",
       "<table border=\"1\" class=\"dataframe\">\n",
       "  <thead>\n",
       "    <tr style=\"text-align: right;\">\n",
       "      <th></th>\n",
       "      <th>Interactor</th>\n",
       "      <th>Untitled Question</th>\n",
       "      <th>no_friends</th>\n",
       "    </tr>\n",
       "  </thead>\n",
       "  <tbody>\n",
       "    <tr>\n",
       "      <th>7</th>\n",
       "      <td>ar7165@nyu.edu</td>\n",
       "      <td>Youssef Azzam, Kundyz Muktar, Kripa Shrestha, ...</td>\n",
       "      <td>22</td>\n",
       "    </tr>\n",
       "    <tr>\n",
       "      <th>3</th>\n",
       "      <td>ab9840@nyu.edu</td>\n",
       "      <td>Kundyz Muktar, Kripa Shrestha, Dixit Timilsina...</td>\n",
       "      <td>15</td>\n",
       "    </tr>\n",
       "    <tr>\n",
       "      <th>6</th>\n",
       "      <td>mr6179@nyu.edu</td>\n",
       "      <td>Kripa Shrestha, Soojin Lee, Mandip Subedi, Nic...</td>\n",
       "      <td>14</td>\n",
       "    </tr>\n",
       "    <tr>\n",
       "      <th>20</th>\n",
       "      <td>mi2133@nyu.edu</td>\n",
       "      <td>Kundyz Muktar, Dixit Timilsina, Mandip Subedi,...</td>\n",
       "      <td>14</td>\n",
       "    </tr>\n",
       "    <tr>\n",
       "      <th>69</th>\n",
       "      <td>ms12976@nyu.edu</td>\n",
       "      <td>Kripa Shrestha, Dixit Timilsina, Mandip Subedi...</td>\n",
       "      <td>11</td>\n",
       "    </tr>\n",
       "  </tbody>\n",
       "</table>\n",
       "</div>"
      ],
      "text/plain": [
       "         Interactor                                  Untitled Question  \\\n",
       "7    ar7165@nyu.edu  Youssef Azzam, Kundyz Muktar, Kripa Shrestha, ...   \n",
       "3    ab9840@nyu.edu  Kundyz Muktar, Kripa Shrestha, Dixit Timilsina...   \n",
       "6    mr6179@nyu.edu  Kripa Shrestha, Soojin Lee, Mandip Subedi, Nic...   \n",
       "20   mi2133@nyu.edu  Kundyz Muktar, Dixit Timilsina, Mandip Subedi,...   \n",
       "69  ms12976@nyu.edu  Kripa Shrestha, Dixit Timilsina, Mandip Subedi...   \n",
       "\n",
       "    no_friends  \n",
       "7           22  \n",
       "3           15  \n",
       "6           14  \n",
       "20          14  \n",
       "69          11  "
      ]
     },
     "execution_count": 4,
     "metadata": {},
     "output_type": "execute_result"
    }
   ],
   "source": [
    "df_known['no_friends'] = df_known['Untitled Question'].apply(lambda x: len(x.split(\", \")))\n",
    "df_known.sort_values(by=['no_friends'], ascending=False, inplace=True)\n",
    "df_known.head()"
   ]
  },
  {
   "cell_type": "code",
   "execution_count": 17,
   "id": "27808a1c-621a-4673-abe2-d6d0f761cd5b",
   "metadata": {},
   "outputs": [
    {
     "data": {
      "text/plain": [
       "156"
      ]
     },
     "execution_count": 17,
     "metadata": {},
     "output_type": "execute_result"
    }
   ],
   "source": [
    "# variants = df_variants.variant_stream_name.to_list()\n",
    "# random.choice(variants)\n",
    "len(allocated)"
   ]
  },
  {
   "cell_type": "code",
   "execution_count": 21,
   "id": "0e6620a9-d6c4-4f36-8696-d31273bcc1ed",
   "metadata": {},
   "outputs": [],
   "source": [
    "allocated = []\n",
    "dic_interactors_streams = {}\n",
    "variants = df_variants.variant_stream_name.to_list()\n",
    "\n",
    "for interactor in df_known.Interactor:\n",
    "    allocated_to_interactor = []\n",
    "    names_allocated_to_interactor = []\n",
    "    while len(allocated_to_interactor) <= 3:\n",
    "        # print(interactor, len(allocated_to_interactor))\n",
    "        #1. pick 1 variant not allocated already\n",
    "        available_variants = [v for v in variants if (v not in allocated or allocated.count(v) == 1)] #a variant has to be allocated twice\n",
    "        variant = random.choice(available_variants)\n",
    "        variant_name = df_variants[df_variants.variant_stream_name == variant].full_name.values[0]\n",
    "        #2. chack # a) not known by interactor; # b) name different than allocated ones.\n",
    "        if (variant_name not in df_known[df_known.Interactor == interactor]['Untitled Question'].values[0].split(\", \")) and (variant_name not in names_allocated_to_interactor):\n",
    "            allocated_to_interactor.append(variant)\n",
    "            names_allocated_to_interactor.append(variant_name)\n",
    "            allocated.append(variant)\n",
    "        if len(allocated_to_interactor) == 4:\n",
    "            dic_interactors_streams[interactor] = allocated_to_interactor\n",
    "    # print(allocated_to_interactor, names_allocated_to_interactor)"
   ]
  },
  {
   "cell_type": "code",
   "execution_count": 28,
   "id": "dbcff175-e736-4f06-8976-86098be55d51",
   "metadata": {},
   "outputs": [],
   "source": [
    "pd.DataFrame(dic_interactors_streams).to_excel(\"allocation.xlsx\")"
   ]
  },
  {
   "cell_type": "code",
   "execution_count": 24,
   "id": "3797d1fe-c5a8-428d-bbcb-1c439b147593",
   "metadata": {},
   "outputs": [
    {
     "data": {
      "text/plain": [
       "312"
      ]
     },
     "execution_count": 24,
     "metadata": {},
     "output_type": "execute_result"
    }
   ],
   "source": [
    "len(allocated)"
   ]
  },
  {
   "cell_type": "code",
   "execution_count": 25,
   "id": "f48fc07b-253f-4226-9b35-d23788243943",
   "metadata": {},
   "outputs": [
    {
     "data": {
      "text/plain": [
       "'innocent_18'"
      ]
     },
     "execution_count": 25,
     "metadata": {},
     "output_type": "execute_result"
    }
   ],
   "source": [
    "variant"
   ]
  },
  {
   "cell_type": "code",
   "execution_count": 27,
   "id": "099ba880-2db0-417f-a5f7-041c42fd647d",
   "metadata": {},
   "outputs": [
    {
     "data": {
      "text/html": [
       "<div>\n",
       "<style scoped>\n",
       "    .dataframe tbody tr th:only-of-type {\n",
       "        vertical-align: middle;\n",
       "    }\n",
       "\n",
       "    .dataframe tbody tr th {\n",
       "        vertical-align: top;\n",
       "    }\n",
       "\n",
       "    .dataframe thead th {\n",
       "        text-align: right;\n",
       "    }\n",
       "</style>\n",
       "<table border=\"1\" class=\"dataframe\">\n",
       "  <thead>\n",
       "    <tr style=\"text-align: right;\">\n",
       "      <th></th>\n",
       "      <th>ar7165@nyu.edu</th>\n",
       "      <th>ab9840@nyu.edu</th>\n",
       "      <th>mr6179@nyu.edu</th>\n",
       "      <th>mi2133@nyu.edu</th>\n",
       "      <th>ms12976@nyu.edu</th>\n",
       "      <th>km5188@nyu.edu</th>\n",
       "      <th>am11646@nyu.edu</th>\n",
       "      <th>at5130@nyu.edu</th>\n",
       "      <th>ap5724@nyu.edu</th>\n",
       "      <th>ss13750@nyu.edu</th>\n",
       "      <th>...</th>\n",
       "      <th>sh7024@nyu.edu</th>\n",
       "      <th>bk1998@nyu.edu</th>\n",
       "      <th>sl7362@nyu.edu</th>\n",
       "      <th>mra467@nyu.edu</th>\n",
       "      <th>yvb207@nyu.edu</th>\n",
       "      <th>sr6546@nyu.edu</th>\n",
       "      <th>hu297@nyu.edu</th>\n",
       "      <th>ka2768@nyu.edu</th>\n",
       "      <th>sk7903@nyu.edu</th>\n",
       "      <th>chupa2@nyu.edu</th>\n",
       "    </tr>\n",
       "  </thead>\n",
       "  <tbody>\n",
       "    <tr>\n",
       "      <th>0</th>\n",
       "      <td>credit_5</td>\n",
       "      <td>argon_25</td>\n",
       "      <td>lemonade_25</td>\n",
       "      <td>petalite_29</td>\n",
       "      <td>crate_22</td>\n",
       "      <td>glass_32</td>\n",
       "      <td>soul_31</td>\n",
       "      <td>cacao_32</td>\n",
       "      <td>bellusaurus_39</td>\n",
       "      <td>passenger_24</td>\n",
       "      <td>...</td>\n",
       "      <td>stealer_37</td>\n",
       "      <td>stealer_37</td>\n",
       "      <td>gojirasaurus_36</td>\n",
       "      <td>celery_23</td>\n",
       "      <td>blade_17</td>\n",
       "      <td>opportunity_25</td>\n",
       "      <td>atmosphere_28</td>\n",
       "      <td>fox_35</td>\n",
       "      <td>field_23</td>\n",
       "      <td>rhythm_30</td>\n",
       "    </tr>\n",
       "    <tr>\n",
       "      <th>1</th>\n",
       "      <td>turnip_22</td>\n",
       "      <td>baseball_24</td>\n",
       "      <td>elm_18</td>\n",
       "      <td>editor_8</td>\n",
       "      <td>jumper_24</td>\n",
       "      <td>baseball_35</td>\n",
       "      <td>lark_7</td>\n",
       "      <td>overcoat_25</td>\n",
       "      <td>observation_27</td>\n",
       "      <td>governor_30</td>\n",
       "      <td>...</td>\n",
       "      <td>crate_22</td>\n",
       "      <td>field_23</td>\n",
       "      <td>parsley_28</td>\n",
       "      <td>syzygy_29</td>\n",
       "      <td>ragamuffin_9</td>\n",
       "      <td>parsley_28</td>\n",
       "      <td>law_8</td>\n",
       "      <td>atmosphere_28</td>\n",
       "      <td>rhythm_30</td>\n",
       "      <td>laugh_37</td>\n",
       "    </tr>\n",
       "    <tr>\n",
       "      <th>2</th>\n",
       "      <td>prose_26</td>\n",
       "      <td>veterinarian_9</td>\n",
       "      <td>range_32</td>\n",
       "      <td>emperor_20</td>\n",
       "      <td>shrine_25</td>\n",
       "      <td>tie_22</td>\n",
       "      <td>baritone_20</td>\n",
       "      <td>hallway_39</td>\n",
       "      <td>front_26</td>\n",
       "      <td>wedelia_32</td>\n",
       "      <td>...</td>\n",
       "      <td>lark_7</td>\n",
       "      <td>step_22</td>\n",
       "      <td>anteater_40</td>\n",
       "      <td>marquess_5</td>\n",
       "      <td>edam_7</td>\n",
       "      <td>blackbird_36</td>\n",
       "      <td>plain_20</td>\n",
       "      <td>innocent_18</td>\n",
       "      <td>balloon_22</td>\n",
       "      <td>sandal_23</td>\n",
       "    </tr>\n",
       "    <tr>\n",
       "      <th>3</th>\n",
       "      <td>amaryllis_23</td>\n",
       "      <td>raven_30</td>\n",
       "      <td>soybean_21</td>\n",
       "      <td>raven_30</td>\n",
       "      <td>dolphin_17</td>\n",
       "      <td>citron_19</td>\n",
       "      <td>editor_8</td>\n",
       "      <td>archaeopteryx_21</td>\n",
       "      <td>script_9</td>\n",
       "      <td>tie_22</td>\n",
       "      <td>...</td>\n",
       "      <td>iguanadon_9</td>\n",
       "      <td>paste_28</td>\n",
       "      <td>edam_7</td>\n",
       "      <td>law_8</td>\n",
       "      <td>nose_36</td>\n",
       "      <td>antimatter_20</td>\n",
       "      <td>glass_32</td>\n",
       "      <td>wind_31</td>\n",
       "      <td>laugh_37</td>\n",
       "      <td>innocent_18</td>\n",
       "    </tr>\n",
       "  </tbody>\n",
       "</table>\n",
       "<p>4 rows × 78 columns</p>\n",
       "</div>"
      ],
      "text/plain": [
       "  ar7165@nyu.edu  ab9840@nyu.edu mr6179@nyu.edu mi2133@nyu.edu  \\\n",
       "0       credit_5        argon_25    lemonade_25    petalite_29   \n",
       "1      turnip_22     baseball_24         elm_18       editor_8   \n",
       "2       prose_26  veterinarian_9       range_32     emperor_20   \n",
       "3   amaryllis_23        raven_30     soybean_21       raven_30   \n",
       "\n",
       "  ms12976@nyu.edu km5188@nyu.edu am11646@nyu.edu    at5130@nyu.edu  \\\n",
       "0        crate_22       glass_32         soul_31          cacao_32   \n",
       "1       jumper_24    baseball_35          lark_7       overcoat_25   \n",
       "2       shrine_25         tie_22     baritone_20        hallway_39   \n",
       "3      dolphin_17      citron_19        editor_8  archaeopteryx_21   \n",
       "\n",
       "   ap5724@nyu.edu ss13750@nyu.edu  ... sh7024@nyu.edu bk1998@nyu.edu  \\\n",
       "0  bellusaurus_39    passenger_24  ...     stealer_37     stealer_37   \n",
       "1  observation_27     governor_30  ...       crate_22       field_23   \n",
       "2        front_26      wedelia_32  ...         lark_7        step_22   \n",
       "3        script_9          tie_22  ...    iguanadon_9       paste_28   \n",
       "\n",
       "    sl7362@nyu.edu mra467@nyu.edu yvb207@nyu.edu  sr6546@nyu.edu  \\\n",
       "0  gojirasaurus_36      celery_23       blade_17  opportunity_25   \n",
       "1       parsley_28      syzygy_29   ragamuffin_9      parsley_28   \n",
       "2      anteater_40     marquess_5         edam_7    blackbird_36   \n",
       "3           edam_7          law_8        nose_36   antimatter_20   \n",
       "\n",
       "   hu297@nyu.edu ka2768@nyu.edu sk7903@nyu.edu chupa2@nyu.edu  \n",
       "0  atmosphere_28         fox_35       field_23      rhythm_30  \n",
       "1          law_8  atmosphere_28      rhythm_30       laugh_37  \n",
       "2       plain_20    innocent_18     balloon_22      sandal_23  \n",
       "3       glass_32        wind_31       laugh_37    innocent_18  \n",
       "\n",
       "[4 rows x 78 columns]"
      ]
     },
     "execution_count": 27,
     "metadata": {},
     "output_type": "execute_result"
    }
   ],
   "source": [
    "pd.DataFrame(dic_interactors_streams)"
   ]
  },
  {
   "cell_type": "code",
   "execution_count": null,
   "id": "fcc9f7e1-6dae-43a6-a1d9-10a23607d7ee",
   "metadata": {},
   "outputs": [],
   "source": []
  }
 ],
 "metadata": {
  "kernelspec": {
   "display_name": "Python 3 (ipykernel)",
   "language": "python",
   "name": "python3"
  },
  "language_info": {
   "codemirror_mode": {
    "name": "ipython",
    "version": 3
   },
   "file_extension": ".py",
   "mimetype": "text/x-python",
   "name": "python",
   "nbconvert_exporter": "python",
   "pygments_lexer": "ipython3",
   "version": "3.8.12"
  }
 },
 "nbformat": 4,
 "nbformat_minor": 5
}
